{
  "nbformat": 4,
  "nbformat_minor": 0,
  "metadata": {
    "colab": {
      "provenance": []
    },
    "kernelspec": {
      "name": "python3",
      "display_name": "Python 3"
    },
    "language_info": {
      "name": "python"
    }
  },
  "cells": [
    {
      "cell_type": "code",
      "execution_count": 1,
      "metadata": {
        "id": "DV3zk0Jd0cmL"
      },
      "outputs": [],
      "source": [
        "%%capture\n",
        "!pip install yfinance"
      ]
    },
    {
      "cell_type": "code",
      "source": [
        "import numpy as np\n",
        "import pandas as pd\n",
        "import matplotlib.pyplot as plt\n",
        "import datetime\n",
        "\n",
        "import yfinance as yf\n",
        "\n",
        "import cvxopt as opt\n",
        "from cvxopt import solvers, matrix\n",
        "\n",
        "pd.options.display.float_format = '{:.6f}'.format"
      ],
      "metadata": {
        "id": "_WDyMigl0hV4"
      },
      "execution_count": 2,
      "outputs": []
    },
    {
      "cell_type": "code",
      "source": [
        "tickers = ['BTC-USD', 'BNB-USD', 'XRP-USD', 'TRX-USD']\n",
        "\n",
        "# Get the current date\n",
        "now = datetime.datetime.now()\n",
        "\n",
        "# Subtract 3 months from the current date\n",
        "delta = datetime.timedelta(days=91)\n",
        "start_date = now - delta\n",
        "\n",
        "# Format the date in the required format\n",
        "start_date = start_date.strftime(\"%Y-%m-%d\")\n",
        "end_date = now.strftime(\"%Y-%m-%d\")"
      ],
      "metadata": {
        "id": "qRyRI3gT0xev"
      },
      "execution_count": 3,
      "outputs": []
    },
    {
      "cell_type": "markdown",
      "source": [
        "# Minimum Variance Portfolio With Positive Weights"
      ],
      "metadata": {
        "id": "qvYuMSRM343I"
      }
    },
    {
      "cell_type": "code",
      "source": [
        "def get_close_prices(tickers, start_date, end_date):\n",
        "    close_prices = pd.DataFrame()\n",
        "\n",
        "    # Get close prices for each ticker\n",
        "    for ticker in tickers:\n",
        "        crypto = yf.Ticker(ticker)\n",
        "        close_price = crypto.history(start=start_date, end=end_date)['Close']\n",
        "        close_prices[ticker] = close_price\n",
        "\n",
        "    # Drop rows that contain missing values\n",
        "    close_prices.dropna(inplace=True)\n",
        "\n",
        "    # Convert the index to datetime objects with the desired format\n",
        "    close_prices.index = pd.to_datetime(close_prices.index, format='%Y-%m-%d')\n",
        "\n",
        "    # Extract the year-month-day from the datetime objects and use it as the new index\n",
        "    close_prices.index = close_prices.index.strftime('%Y-%m-%d')\n",
        "\n",
        "    return close_prices\n",
        "\n",
        "\n",
        "def minimum_variance_portfolio_with_positive_weights(close_prices):\n",
        "    # Calculate daily returns\n",
        "    returns = close_prices.pct_change().dropna()\n",
        "    mean_ret = returns.mean()\n",
        "\n",
        "    # Calculate covariance matrix\n",
        "    cov_matrix = returns.cov()\n",
        "    \n",
        "    # Convert covariance matrix to cvxopt matrix\n",
        "    Sigma = opt.matrix(cov_matrix.values)\n",
        "\n",
        "    # Create constraint matrices\n",
        "    n = len(returns.columns)\n",
        "    pbar = opt.matrix(np.ones(n))\n",
        "    G = opt.matrix(np.vstack((-np.eye(n), np.eye(n))))  # negative and positive n x n identity matrices; Gx <= h\n",
        "    h = opt.matrix(np.vstack((np.zeros((n, 1)), np.ones((n, 1)))))  # n x 1 matrices of zeros and ones\n",
        "    A = opt.matrix(1.0, (1, n))  # Ax = b\n",
        "    b = opt.matrix(1.0)\n",
        "\n",
        "    # Calculate efficient frontier weights using quadratic programming\n",
        "    solvers.options['show_progress'] = False\n",
        "    portfolio_weights = solvers.qp(Sigma, pbar, G, h, A, b)  #['x']\n",
        "\n",
        "    # Check feasibility\n",
        "    if portfolio_weights['status'] == 'optimal':\n",
        "        portfolio_weights = np.array(portfolio_weights['x']).flatten().tolist()\n",
        "        weight_map = pd.DataFrame({'Crypto': close_prices.columns, \n",
        "                                    'Daily_Return': mean_ret.values,\n",
        "                                    'Std': np.sqrt(np.diag(cov_matrix)),\n",
        "                                    'Weight': [float(i) for i in portfolio_weights]})\n",
        "        return weight_map\n",
        "\n",
        "\n",
        "def get_portfolio_variance(w, cov_matrix):\n",
        "    return np.dot(np.dot(w.T, cov_matrix), w)\n",
        "\n",
        "\n",
        "def get_correlation_matrix(cov_matrix):\n",
        "    # Calculate the standard deviations for each asset\n",
        "    std_devs = np.sqrt(np.diag(cov_matrix))\n",
        "\n",
        "    # Divide the covariance matrix by the product of the standard deviations\n",
        "    correlation_matrix = cov_matrix / np.outer(std_devs, std_devs)\n",
        "\n",
        "    # Replace any NaN or infinite values with 0\n",
        "    correlation_matrix = np.nan_to_num(correlation_matrix, 0)\n",
        "\n",
        "    # Convert the numpy array to a pandas dataframe and set the column and row names\n",
        "    correlation_matrix = pd.DataFrame(correlation_matrix, index=cov_matrix.index, columns=cov_matrix.columns)\n",
        "\n",
        "    return correlation_matrix"
      ],
      "metadata": {
        "id": "Lmz_pzXK0i6y"
      },
      "execution_count": 4,
      "outputs": []
    },
    {
      "cell_type": "code",
      "source": [
        "close_prices = get_close_prices(tickers, start_date, end_date)\n",
        "weight_map = minimum_variance_portfolio_with_positive_weights(close_prices)\n",
        "\n",
        "# Get covariance matrix\n",
        "returns = close_prices.pct_change().dropna()\n",
        "cov_matrix = returns.cov()\n",
        "\n",
        "# Get weights for each asset\n",
        "w = weight_map['Weight']\n",
        "\n",
        "# Get portfolio variance\n",
        "p_var = get_portfolio_variance(w, cov_matrix)\n",
        "\n",
        "# Get correlation matrix\n",
        "cor_matrix = get_correlation_matrix(cov_matrix)\n",
        "\n",
        "print(f'Estimated standard deviation of the portfolio is {np.sqrt(p_var)}')\n",
        "print('-------------------------------------------')\n",
        "print('Weights DataFrame:')\n",
        "print('-------------------------------------------')\n",
        "print(weight_map)\n",
        "print('-------------------------------------------')\n",
        "print('Correlation matrix:')\n",
        "print('-------------------------------------------')\n",
        "print(cor_matrix)"
      ],
      "metadata": {
        "colab": {
          "base_uri": "https://localhost:8080/"
        },
        "id": "ZTIAlMNY1Phd",
        "outputId": "5603d653-c5b5-4518-898e-71d5470144b6"
      },
      "execution_count": 5,
      "outputs": [
        {
          "output_type": "stream",
          "name": "stdout",
          "text": [
            "Estimated standard deviation of the portfolio is 0.020654943469069476\n",
            "-------------------------------------------\n",
            "Weights DataFrame:\n",
            "-------------------------------------------\n",
            "    Crypto  Daily_Return      Std   Weight\n",
            "0  BTC-USD      0.003775 0.022286 0.337375\n",
            "1  BNB-USD      0.000584 0.026215 0.081562\n",
            "2  XRP-USD     -0.000234 0.024770 0.163361\n",
            "3  TRX-USD      0.002992 0.022332 0.417702\n",
            "-------------------------------------------\n",
            "Correlation matrix:\n",
            "-------------------------------------------\n",
            "         BTC-USD  BNB-USD  XRP-USD  TRX-USD\n",
            "BTC-USD 1.000000 0.713474 0.743279 0.759776\n",
            "BNB-USD 0.713474 1.000000 0.674864 0.651698\n",
            "XRP-USD 0.743279 0.674864 1.000000 0.658573\n",
            "TRX-USD 0.759776 0.651698 0.658573 1.000000\n"
          ]
        }
      ]
    },
    {
      "cell_type": "markdown",
      "source": [
        "# Minimum Variance Portfolio (negative weights are allowed)"
      ],
      "metadata": {
        "id": "6ITn4Yye4CEg"
      }
    },
    {
      "cell_type": "markdown",
      "source": [
        "## Mathematical Concepts"
      ],
      "metadata": {
        "id": "2P6B2RER4IPw"
      }
    },
    {
      "cell_type": "markdown",
      "source": [
        "$$ \\sum_i x_i = 1, \\quad E = E_p, \\quad \n",
        "V = Var[R_p] = \\sum_i \\sum_j x_i x_j C_{ij}, \\text{ where}$$ \n",
        "\n",
        "\n",
        "$x_i$ - weight of i-th asset in the portfolio; \n",
        "\n",
        "$E_p$ - fixed value of expected portfolio return; \n",
        "\n",
        "$V$ - variance of the portfolio.\n",
        "\n",
        "So, we have a problem as follows. We need to find weights which minimize variance of our portfolio. We'll do this using Lagrange Multipliers method.\n",
        "\n",
        "Lagrange function:\n",
        "$$ W = V - \\lambda (E - E_p) - \\mu \\left(\\sum_i x_i - 1\\right) \\implies $$\n",
        "\n",
        "\\begin{align}\n",
        "    \\frac{\\partial W}{\\partial x_i} &= 2 \\sum_j x_j C_{ij} - \\lambda E_i - \\mu = 0; \\\\\n",
        "    \\frac{\\partial W}{\\partial \\lambda} &= - \\left(\\sum_i E_i x_i - E_p\\right) = 0; \\\\\n",
        "    \\frac{\\partial W}{\\partial \\mu} &= - \\left(\\sum_i x_i - 1\\right) = 0.\n",
        "\\end{align}\n",
        "\n",
        "Thus, we have the equation:\n",
        "$$ Ay = b, $$\n",
        "\n",
        "where\n",
        "\n",
        "$$\n",
        "A = \n",
        "\\begin{pmatrix}\n",
        "  2C & -E & -I \\\\\n",
        "  E^T&  0 &  0 \\\\\n",
        "  I^T&  0 &  0 \\\\\n",
        "\\end{pmatrix}\n",
        "$$\n",
        "\n",
        "\\begin{align}\n",
        "    y^T &= \\{ X^T \\; \\lambda \\;\\; \\mu \\} \\\\\n",
        "    b^T &= \\{ 0 \\;\\; 0 \\;\\; \\dots \\;\\; 0 \\;\\; E_p \\;\\; 1 \\} \\\\\n",
        "    X^T &= \\{ x_1 \\;\\; x_2 \\;\\; \\dots \\;\\; x_n \\} \\\\\n",
        "    E^T &= \\{ E_1 \\;\\; E_2 \\;\\; \\dots \\;\\; E_n \\} \\\\\n",
        "    I^T &= \\{ 1 \\;\\; 1 \\;\\; \\dots \\;\\; 1 \\}\n",
        "\\end{align}\n",
        "\n",
        "Now we can get the solution:\n",
        "\n",
        "$$ y = A^{-1} b $$\n",
        "\n",
        "$$ V = x^T C x $$"
      ],
      "metadata": {
        "id": "yIthUZZV4NXJ"
      }
    },
    {
      "cell_type": "markdown",
      "source": [
        "## Implementation of the algorithm"
      ],
      "metadata": {
        "id": "IeUZdSgv5inn"
      }
    },
    {
      "cell_type": "code",
      "source": [
        "close_prices = get_close_prices(tickers, start_date, end_date)\n",
        "\n",
        "# Get covariance matrix\n",
        "returns = close_prices.pct_change().dropna()\n",
        "E = returns.mean()\n",
        "cov_matrix = returns.cov()\n",
        "\n",
        "# Get the number of assets\n",
        "N = len(E)\n",
        "\n",
        "# Get I\n",
        "I = np.ones(N)\n",
        "\n",
        "# Get A\n",
        "A = np.zeros((N + 2, N + 2))\n",
        "\n",
        "A[:N, :N] = 2 * cov_matrix.values\n",
        "\n",
        "A[:N, -1] = I\n",
        "A[-1, :N] = I\n",
        "\n",
        "A[:N, -2] = E\n",
        "A[-2, :N] = E\n",
        "\n",
        "A = pd.DataFrame(A)\n",
        "\n",
        "A"
      ],
      "metadata": {
        "colab": {
          "base_uri": "https://localhost:8080/",
          "height": 237
        },
        "id": "Spbacd6S2H0c",
        "outputId": "18727bcf-f428-4abd-9974-e6faa44c2475"
      },
      "execution_count": 6,
      "outputs": [
        {
          "output_type": "execute_result",
          "data": {
            "text/plain": [
              "         0        1         2        3         4        5\n",
              "0 0.000993 0.000834  0.000821 0.000756  0.003775 1.000000\n",
              "1 0.000834 0.001374  0.000876 0.000763  0.000584 1.000000\n",
              "2 0.000821 0.000876  0.001227 0.000729 -0.000234 1.000000\n",
              "3 0.000756 0.000763  0.000729 0.000997  0.002992 1.000000\n",
              "4 0.003775 0.000584 -0.000234 0.002992  0.000000 0.000000\n",
              "5 1.000000 1.000000  1.000000 1.000000  0.000000 0.000000"
            ],
            "text/html": [
              "\n",
              "  <div id=\"df-cf7f9c3b-29d3-4d3f-a774-8f0035fc860a\">\n",
              "    <div class=\"colab-df-container\">\n",
              "      <div>\n",
              "<style scoped>\n",
              "    .dataframe tbody tr th:only-of-type {\n",
              "        vertical-align: middle;\n",
              "    }\n",
              "\n",
              "    .dataframe tbody tr th {\n",
              "        vertical-align: top;\n",
              "    }\n",
              "\n",
              "    .dataframe thead th {\n",
              "        text-align: right;\n",
              "    }\n",
              "</style>\n",
              "<table border=\"1\" class=\"dataframe\">\n",
              "  <thead>\n",
              "    <tr style=\"text-align: right;\">\n",
              "      <th></th>\n",
              "      <th>0</th>\n",
              "      <th>1</th>\n",
              "      <th>2</th>\n",
              "      <th>3</th>\n",
              "      <th>4</th>\n",
              "      <th>5</th>\n",
              "    </tr>\n",
              "  </thead>\n",
              "  <tbody>\n",
              "    <tr>\n",
              "      <th>0</th>\n",
              "      <td>0.000993</td>\n",
              "      <td>0.000834</td>\n",
              "      <td>0.000821</td>\n",
              "      <td>0.000756</td>\n",
              "      <td>0.003775</td>\n",
              "      <td>1.000000</td>\n",
              "    </tr>\n",
              "    <tr>\n",
              "      <th>1</th>\n",
              "      <td>0.000834</td>\n",
              "      <td>0.001374</td>\n",
              "      <td>0.000876</td>\n",
              "      <td>0.000763</td>\n",
              "      <td>0.000584</td>\n",
              "      <td>1.000000</td>\n",
              "    </tr>\n",
              "    <tr>\n",
              "      <th>2</th>\n",
              "      <td>0.000821</td>\n",
              "      <td>0.000876</td>\n",
              "      <td>0.001227</td>\n",
              "      <td>0.000729</td>\n",
              "      <td>-0.000234</td>\n",
              "      <td>1.000000</td>\n",
              "    </tr>\n",
              "    <tr>\n",
              "      <th>3</th>\n",
              "      <td>0.000756</td>\n",
              "      <td>0.000763</td>\n",
              "      <td>0.000729</td>\n",
              "      <td>0.000997</td>\n",
              "      <td>0.002992</td>\n",
              "      <td>1.000000</td>\n",
              "    </tr>\n",
              "    <tr>\n",
              "      <th>4</th>\n",
              "      <td>0.003775</td>\n",
              "      <td>0.000584</td>\n",
              "      <td>-0.000234</td>\n",
              "      <td>0.002992</td>\n",
              "      <td>0.000000</td>\n",
              "      <td>0.000000</td>\n",
              "    </tr>\n",
              "    <tr>\n",
              "      <th>5</th>\n",
              "      <td>1.000000</td>\n",
              "      <td>1.000000</td>\n",
              "      <td>1.000000</td>\n",
              "      <td>1.000000</td>\n",
              "      <td>0.000000</td>\n",
              "      <td>0.000000</td>\n",
              "    </tr>\n",
              "  </tbody>\n",
              "</table>\n",
              "</div>\n",
              "      <button class=\"colab-df-convert\" onclick=\"convertToInteractive('df-cf7f9c3b-29d3-4d3f-a774-8f0035fc860a')\"\n",
              "              title=\"Convert this dataframe to an interactive table.\"\n",
              "              style=\"display:none;\">\n",
              "        \n",
              "  <svg xmlns=\"http://www.w3.org/2000/svg\" height=\"24px\"viewBox=\"0 0 24 24\"\n",
              "       width=\"24px\">\n",
              "    <path d=\"M0 0h24v24H0V0z\" fill=\"none\"/>\n",
              "    <path d=\"M18.56 5.44l.94 2.06.94-2.06 2.06-.94-2.06-.94-.94-2.06-.94 2.06-2.06.94zm-11 1L8.5 8.5l.94-2.06 2.06-.94-2.06-.94L8.5 2.5l-.94 2.06-2.06.94zm10 10l.94 2.06.94-2.06 2.06-.94-2.06-.94-.94-2.06-.94 2.06-2.06.94z\"/><path d=\"M17.41 7.96l-1.37-1.37c-.4-.4-.92-.59-1.43-.59-.52 0-1.04.2-1.43.59L10.3 9.45l-7.72 7.72c-.78.78-.78 2.05 0 2.83L4 21.41c.39.39.9.59 1.41.59.51 0 1.02-.2 1.41-.59l7.78-7.78 2.81-2.81c.8-.78.8-2.07 0-2.86zM5.41 20L4 18.59l7.72-7.72 1.47 1.35L5.41 20z\"/>\n",
              "  </svg>\n",
              "      </button>\n",
              "      \n",
              "  <style>\n",
              "    .colab-df-container {\n",
              "      display:flex;\n",
              "      flex-wrap:wrap;\n",
              "      gap: 12px;\n",
              "    }\n",
              "\n",
              "    .colab-df-convert {\n",
              "      background-color: #E8F0FE;\n",
              "      border: none;\n",
              "      border-radius: 50%;\n",
              "      cursor: pointer;\n",
              "      display: none;\n",
              "      fill: #1967D2;\n",
              "      height: 32px;\n",
              "      padding: 0 0 0 0;\n",
              "      width: 32px;\n",
              "    }\n",
              "\n",
              "    .colab-df-convert:hover {\n",
              "      background-color: #E2EBFA;\n",
              "      box-shadow: 0px 1px 2px rgba(60, 64, 67, 0.3), 0px 1px 3px 1px rgba(60, 64, 67, 0.15);\n",
              "      fill: #174EA6;\n",
              "    }\n",
              "\n",
              "    [theme=dark] .colab-df-convert {\n",
              "      background-color: #3B4455;\n",
              "      fill: #D2E3FC;\n",
              "    }\n",
              "\n",
              "    [theme=dark] .colab-df-convert:hover {\n",
              "      background-color: #434B5C;\n",
              "      box-shadow: 0px 1px 3px 1px rgba(0, 0, 0, 0.15);\n",
              "      filter: drop-shadow(0px 1px 2px rgba(0, 0, 0, 0.3));\n",
              "      fill: #FFFFFF;\n",
              "    }\n",
              "  </style>\n",
              "\n",
              "      <script>\n",
              "        const buttonEl =\n",
              "          document.querySelector('#df-cf7f9c3b-29d3-4d3f-a774-8f0035fc860a button.colab-df-convert');\n",
              "        buttonEl.style.display =\n",
              "          google.colab.kernel.accessAllowed ? 'block' : 'none';\n",
              "\n",
              "        async function convertToInteractive(key) {\n",
              "          const element = document.querySelector('#df-cf7f9c3b-29d3-4d3f-a774-8f0035fc860a');\n",
              "          const dataTable =\n",
              "            await google.colab.kernel.invokeFunction('convertToInteractive',\n",
              "                                                     [key], {});\n",
              "          if (!dataTable) return;\n",
              "\n",
              "          const docLinkHtml = 'Like what you see? Visit the ' +\n",
              "            '<a target=\"_blank\" href=https://colab.research.google.com/notebooks/data_table.ipynb>data table notebook</a>'\n",
              "            + ' to learn more about interactive tables.';\n",
              "          element.innerHTML = '';\n",
              "          dataTable['output_type'] = 'display_data';\n",
              "          await google.colab.output.renderOutput(dataTable, element);\n",
              "          const docLink = document.createElement('div');\n",
              "          docLink.innerHTML = docLinkHtml;\n",
              "          element.appendChild(docLink);\n",
              "        }\n",
              "      </script>\n",
              "    </div>\n",
              "  </div>\n",
              "  "
            ]
          },
          "metadata": {},
          "execution_count": 6
        }
      ]
    },
    {
      "cell_type": "code",
      "source": [
        "# Get the portfolio variance\n",
        "invA = np.linalg.inv(A)\n",
        "def get_var(Ep):\n",
        "    b = np.array([0] * N + [Ep, 1])\n",
        "    y = np.dot(invA, b)\n",
        "    x = y[:-2]\n",
        "    return np.dot(np.dot(x.T, cov_matrix), x)\n",
        "\n",
        "# Vectorization\n",
        "v_get_var = np.vectorize(get_var)"
      ],
      "metadata": {
        "id": "bvS2Sx5283Yu"
      },
      "execution_count": 7,
      "outputs": []
    },
    {
      "cell_type": "code",
      "source": [
        "Ep = np.linspace(0.0001, 0.01, 1000)\n",
        "Vp = np.sqrt(v_get_var(Ep))\n",
        "\n",
        "# Visualization\n",
        "plt.scatter(Vp, Ep)\n",
        "plt.title(\"Efficient frontier\")\n",
        "plt.xlabel(\"Standard deviation of return\")\n",
        "plt.ylabel(\"Expected return\")\n",
        "plt.show();"
      ],
      "metadata": {
        "colab": {
          "base_uri": "https://localhost:8080/",
          "height": 295
        },
        "id": "Wv8jGfOH-eWh",
        "outputId": "a950fd98-dfea-4c0b-aaed-cbd673168096"
      },
      "execution_count": 8,
      "outputs": [
        {
          "output_type": "display_data",
          "data": {
            "text/plain": [
              "<Figure size 432x288 with 1 Axes>"
            ],
            "image/png": "[encoded data removed]"
          },
          "metadata": {
            "needs_background": "light"
          }
        }
      ]
    },
    {
      "cell_type": "code",
      "source": [
        "# Get index of minimum variance element\n",
        "idx_min = np.argmin(Vp)\n",
        "\n",
        "# Get weights\n",
        "b = np.array([0] * len(E) + [Ep[idx_min], 1] )\n",
        "x = np.dot(invA, b)[:-2]\n",
        "\n",
        "# Make a copy of weights_map but with new weights\n",
        "weight_map_new = weight_map.copy()\n",
        "weight_map_new['Weight'] = x\n",
        "\n",
        "print(f'Estimated standard deviation of the portfolio is {Vp[idx_min]}')\n",
        "print('-------------------------------------------')\n",
        "print('Weights DataFrame:')\n",
        "print('-------------------------------------------')\n",
        "print(weight_map_new)\n",
        "print('-------------------------------------------')\n",
        "print('Correlation matrix:')\n",
        "print('-------------------------------------------')\n",
        "print(cor_matrix)"
      ],
      "metadata": {
        "colab": {
          "base_uri": "https://localhost:8080/"
        },
        "id": "4ZlPdotg-i_x",
        "outputId": "00f5422b-c81c-4ec9-b688-cd0185159490"
      },
      "execution_count": 9,
      "outputs": [
        {
          "output_type": "stream",
          "name": "stdout",
          "text": [
            "Estimated standard deviation of the portfolio is 0.02065484730535067\n",
            "-------------------------------------------\n",
            "Weights DataFrame:\n",
            "-------------------------------------------\n",
            "    Crypto  Daily_Return      Std   Weight\n",
            "0  BTC-USD      0.003775 0.022286 0.338568\n",
            "1  BNB-USD      0.000584 0.026215 0.078064\n",
            "2  XRP-USD     -0.000234 0.024770 0.164754\n",
            "3  TRX-USD      0.002992 0.022332 0.418614\n",
            "-------------------------------------------\n",
            "Correlation matrix:\n",
            "-------------------------------------------\n",
            "         BTC-USD  BNB-USD  XRP-USD  TRX-USD\n",
            "BTC-USD 1.000000 0.713474 0.743279 0.759776\n",
            "BNB-USD 0.713474 1.000000 0.674864 0.651698\n",
            "XRP-USD 0.743279 0.674864 1.000000 0.658573\n",
            "TRX-USD 0.759776 0.651698 0.658573 1.000000\n"
          ]
        }
      ]
    },
    {
      "cell_type": "code",
      "source": [],
      "metadata": {
        "id": "VDrVgXta_tkZ"
      },
      "execution_count": null,
      "outputs": []
    }
  ]
}