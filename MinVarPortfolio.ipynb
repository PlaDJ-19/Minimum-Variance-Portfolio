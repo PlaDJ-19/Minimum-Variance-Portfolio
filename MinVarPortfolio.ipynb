{
  "nbformat": 4,
  "nbformat_minor": 0,
  "metadata": {
    "colab": {
      "provenance": []
    },
    "kernelspec": {
      "name": "python3",
      "display_name": "Python 3"
    },
    "language_info": {
      "name": "python"
    }
  },
  "cells": [
    {
      "cell_type": "code",
      "execution_count": 12,
      "metadata": {
        "id": "6kqSLc2kcYJZ"
      },
      "outputs": [],
      "source": [
        "%%capture\n",
        "!pip install yfinance"
      ]
    },
    {
      "cell_type": "code",
      "source": [
        "import numpy as np\n",
        "import pandas as pd\n",
        "import datetime\n",
        "\n",
        "import yfinance as yf\n",
        "\n",
        "import cvxopt as opt\n",
        "from cvxopt import solvers, matrix\n",
        "\n",
        "pd.options.display.float_format = '{:.6f}'.format"
      ],
      "metadata": {
        "id": "1zL4PoCmcdRQ"
      },
      "execution_count": 13,
      "outputs": []
    },
    {
      "cell_type": "code",
      "source": [
        "class Crypto:\n",
        "    def __init__(self, tickers, start_date, end_date):\n",
        "        self.tickers = tickers\n",
        "        self.start_date = start_date\n",
        "        self.end_date = end_date\n",
        "        self.close_prices = self.initialize_close_prices()\n",
        "\n",
        "    def initialize_close_prices(self):\n",
        "        close_prices = pd.DataFrame()\n",
        "\n",
        "        # Get close prices for each ticker\n",
        "        for ticker in self.tickers:\n",
        "            crypto = yf.Ticker(ticker)\n",
        "            close_price = crypto.history(start=self.start_date, end=self.end_date)['Close']\n",
        "            close_prices[ticker] = close_price\n",
        "\n",
        "        # Drop rows that contain missing values\n",
        "        close_prices.dropna(inplace=True)\n",
        "\n",
        "        # Convert the index to datetime objects with the desired format\n",
        "        close_prices.index = pd.to_datetime(close_prices.index, format='%Y-%m-%d')\n",
        "\n",
        "        # Extract the year-month-day from the datetime objects and use it as the new index\n",
        "        close_prices.index = close_prices.index.strftime('%Y-%m-%d')\n",
        "\n",
        "        return close_prices\n",
        "\n",
        "    def get_close_prices(self):\n",
        "        return self.close_prices\n",
        "\n",
        "    def minimum_variance_portfolio_with_positive_weights(self, target_return=None):\n",
        "        # Calculate daily returns\n",
        "        returns = self.close_prices.pct_change().dropna()\n",
        "\n",
        "        # Check if we can achieve desiable target_return\n",
        "        mean_ret = returns.mean()\n",
        "        min_ret, max_ret = mean_ret.min(), mean_ret.max()\n",
        "        if target_return is not None and (target_return < min_ret or target_return > max_ret):\n",
        "            raise ValueError(f'Inappropriate value of target return. It should be between {min_ret} and {max_ret}')\n",
        "\n",
        "        # Calculate covariance matrix\n",
        "        cov_matrix = returns.cov()\n",
        "        \n",
        "        # Convert covariance matrix to cvxopt matrix\n",
        "        Sigma = opt.matrix(cov_matrix.values)\n",
        "\n",
        "        # Create constraint matrices\n",
        "        n = len(returns.columns)\n",
        "        pbar = opt.matrix(np.ones(n))\n",
        "        G = opt.matrix(np.vstack((-np.eye(n), np.eye(n))))  # negative and positive n x n identity matrices; Gx <= h\n",
        "        h = opt.matrix(np.vstack((np.zeros((n, 1)), np.ones((n, 1)))))  # n x 1 matrices of zeros and ones\n",
        "        A = opt.matrix(1.0, (1, n))  # Ax = b\n",
        "        b = opt.matrix(1.0)\n",
        "\n",
        "        if target_return is not None:\n",
        "            # Add target return constraint: mu'x >= target_return\n",
        "            mu = opt.matrix(mean_ret)\n",
        "            G = opt.matrix(np.vstack((G, -mu.T)))\n",
        "            h = opt.matrix(np.vstack((h, -target_return)))\n",
        "    \n",
        "        # Calculate efficient frontier weights using quadratic programming\n",
        "        solvers.options['show_progress'] = False\n",
        "        portfolio_weights = solvers.qp(Sigma, pbar, G, h, A, b)  #['x']\n",
        "\n",
        "        # Check feasibility\n",
        "        if portfolio_weights['status'] == 'optimal':\n",
        "            portfolio_weights = np.array(portfolio_weights['x']).flatten().tolist()\n",
        "            weight_map = pd.DataFrame({'Crypto': self.close_prices.columns, \n",
        "                                       'Daily_Return': mean_ret.values,\n",
        "                                       'Std': np.sqrt(np.diag(cov_matrix)),\n",
        "                                       'Weight': [float(i) for i in portfolio_weights]})\n",
        "            return weight_map\n",
        "        else:\n",
        "            raise ValueError(f'Feasible solution not found for target return of {target_return}')\n",
        "\n",
        "\n",
        "def get_portfolio_variance(w, cov_matrix):\n",
        "    return np.dot(np.dot(w.T, cov_matrix), w)\n",
        "\n",
        "def get_correlation_matrix(cov_matrix):\n",
        "    # Calculate the standard deviations for each variable\n",
        "    std_devs = np.sqrt(np.diag(cov_matrix))\n",
        "\n",
        "    # Divide the covariance matrix by the product of the standard deviations\n",
        "    correlation_matrix = cov_matrix / np.outer(std_devs, std_devs)\n",
        "\n",
        "    # Replace any NaN or infinite values with 0\n",
        "    correlation_matrix = np.nan_to_num(correlation_matrix, 0)\n",
        "\n",
        "    # Convert the numpy array to a pandas dataframe and set the column and row names\n",
        "    correlation_matrix = pd.DataFrame(correlation_matrix, index=cov_matrix.index, columns=cov_matrix.columns)\n",
        "\n",
        "    return correlation_matrix"
      ],
      "metadata": {
        "id": "par7Ebg4cenX"
      },
      "execution_count": 23,
      "outputs": []
    },
    {
      "cell_type": "code",
      "source": [
        "# Cryptocurrencies you want to include in the portfolio\n",
        "# tickers = ['BTC-USD', 'ETH-USD', 'LTC-USD', 'ADA-USD', 'DASH-USD', 'BNB-USD', 'BCH-USD', 'XLM-USD', 'XRP-USD', 'TRX-USD']\n",
        "tickers = ['BTC-USD', 'BNB-USD', 'XRP-USD', 'TRX-USD']\n",
        "\n",
        "# Get the current date\n",
        "now = datetime.datetime.now()\n",
        "\n",
        "# Subtract 3 months from the current date\n",
        "delta = datetime.timedelta(days=91)\n",
        "start_date = now - delta\n",
        "\n",
        "# Format the date in the required format\n",
        "start_date = start_date.strftime(\"%Y-%m-%d\")\n",
        "end_date = now.strftime(\"%Y-%m-%d\")\n",
        "\n",
        "# Initialize Crypto class\n",
        "Cryptos = Crypto(tickers, start_date, end_date)\n",
        "\n",
        "# Get covariance matrix\n",
        "close_prices = Cryptos.get_close_prices()\n",
        "returns = close_prices.pct_change().dropna()\n",
        "cov_matrix = returns.cov()"
      ],
      "metadata": {
        "id": "4T2pf_3gkMzS"
      },
      "execution_count": 27,
      "outputs": []
    },
    {
      "cell_type": "code",
      "source": [
        "# Get minimum variance portfolio\n",
        "min_var_weights = Cryptos.minimum_variance_portfolio_with_positive_weights()\n",
        "\n",
        "# Get weights for each asset\n",
        "w = min_var_weights['Weight']\n",
        "\n",
        "# Get portfolio variance\n",
        "p_var = get_portfolio_variance(w, cov_matrix)\n",
        "\n",
        "# Get correlation matrix\n",
        "cor_matrix = get_correlation_matrix(cov_matrix)\n",
        "\n",
        "print(f'Estimated standard deviation of the portfolio is {np.sqrt(p_var)}')\n",
        "print('-------------------------------------------')\n",
        "print('Weights DataFrame:')\n",
        "print('-------------------------------------------')\n",
        "print(min_var_weights)\n",
        "print('-------------------------------------------')\n",
        "print('Correlation matrix:')\n",
        "print('-------------------------------------------')\n",
        "print(cor_matrix)"
      ],
      "metadata": {
        "colab": {
          "base_uri": "https://localhost:8080/"
        },
        "id": "UaPdcGxq9F2Z",
        "outputId": "e79b3617-9dfe-4f52-a107-bea5fcf0b778"
      },
      "execution_count": 36,
      "outputs": [
        {
          "output_type": "stream",
          "name": "stdout",
          "text": [
            "Estimated standard deviation of the portfolio is 0.020654943469069476\n",
            "-------------------------------------------\n",
            "Weights DataFrame:\n",
            "-------------------------------------------\n",
            "    Crypto  Daily_Return      Std   Weight\n",
            "0  BTC-USD      0.003775 0.022286 0.337375\n",
            "1  BNB-USD      0.000584 0.026215 0.081562\n",
            "2  XRP-USD     -0.000234 0.024770 0.163361\n",
            "3  TRX-USD      0.002992 0.022332 0.417702\n",
            "-------------------------------------------\n",
            "Correlation matrix:\n",
            "-------------------------------------------\n",
            "         BTC-USD  BNB-USD  XRP-USD  TRX-USD\n",
            "BTC-USD 1.000000 0.713474 0.743279 0.759776\n",
            "BNB-USD 0.713474 1.000000 0.674864 0.651698\n",
            "XRP-USD 0.743279 0.674864 1.000000 0.658573\n",
            "TRX-USD 0.759776 0.651698 0.658573 1.000000\n"
          ]
        }
      ]
    },
    {
      "cell_type": "code",
      "source": [
        "# Cryptos.minimum_variance_portfolio_with_positive_weights(target_return=0.003)"
      ],
      "metadata": {
        "id": "gbwF9W38AZdo"
      },
      "execution_count": null,
      "outputs": []
    },
    {
      "cell_type": "code",
      "source": [],
      "metadata": {
        "id": "5eQjJdwHC7B_"
      },
      "execution_count": null,
      "outputs": []
    }
  ]
}